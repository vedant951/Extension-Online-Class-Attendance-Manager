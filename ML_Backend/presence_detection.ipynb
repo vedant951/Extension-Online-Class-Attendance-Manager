{
  "nbformat": 4,
  "nbformat_minor": 0,
  "metadata": {
    "colab": {
      "name": "presence_detection.ipynb",
      "provenance": [],
      "collapsed_sections": []
    },
    "kernelspec": {
      "display_name": "Python 3",
      "name": "python3"
    }
  },
  "cells": [
    {
      "cell_type": "code",
      "metadata": {
        "id": "rbHHptX9Z-6y"
      },
      "source": [
        "import matplotlib.pyplot as plt\n",
        "from google.colab.patches import cv2_imshow\n",
        "import random\n",
        "import cv2\n",
        "import datetime\n",
        "import pandas as pd"
      ],
      "execution_count": null,
      "outputs": []
    },
    {
      "cell_type": "code",
      "metadata": {
        "colab": {
          "base_uri": "https://localhost:8080/"
        },
        "id": "mLcL6TRh5gg_",
        "outputId": "2ee70907-ca76-4b28-c6a9-adac9dfc459b"
      },
      "source": [
        "from google.colab import drive\n",
        "drive.mount(\"/content/gdrive\")"
      ],
      "execution_count": null,
      "outputs": [
        {
          "output_type": "stream",
          "text": [
            "Drive already mounted at /content/gdrive; to attempt to forcibly remount, call drive.mount(\"/content/gdrive\", force_remount=True).\n"
          ],
          "name": "stdout"
        }
      ]
    },
    {
      "cell_type": "code",
      "metadata": {
        "id": "XkJT_qVA50PH"
      },
      "source": [
        "import os\n",
        "os.chdir('/content/gdrive/My Drive/Data/')"
      ],
      "execution_count": null,
      "outputs": []
    },
    {
      "cell_type": "code",
      "metadata": {
        "id": "8DQwMQywu_fP"
      },
      "source": [
        "# !wget \"https://github.com/OlafenwaMoses/ImageAI/releases/download/essentials-v5/resnet50_coco_best_v2.1.0.h5\""
      ],
      "execution_count": null,
      "outputs": []
    },
    {
      "cell_type": "code",
      "metadata": {
        "id": "1MxyCF8DYL5h"
      },
      "source": [
        "# !pip install imageai --upgrade"
      ],
      "execution_count": null,
      "outputs": []
    },
    {
      "cell_type": "code",
      "metadata": {
        "colab": {
          "base_uri": "https://localhost:8080/"
        },
        "id": "8fM6x3MNx0pu",
        "outputId": "61e499ca-6556-4b13-e2be-127555a32210"
      },
      "source": [
        "from imageai.Detection import ObjectDetection\n",
        "\n",
        "execution_path = os.getcwd()\n",
        "\n",
        "detector1 = ObjectDetection()\n",
        "detector1.setModelTypeAsRetinaNet()\n",
        "detector1.setModelPath( os.path.join(execution_path , \"resnet50_coco_best_v2.1.0.h5\"))\n",
        "detector1.loadModel(detection_speed=\"flash\")"
      ],
      "execution_count": null,
      "outputs": [
        {
          "output_type": "stream",
          "text": [
            "WARNING:tensorflow:No training configuration found in the save file, so the model was *not* compiled. Compile it manually.\n"
          ],
          "name": "stdout"
        }
      ]
    },
    {
      "cell_type": "code",
      "metadata": {
        "id": "hs5VR8CN7nnA"
      },
      "source": [
        "Attendance_Sheet = []"
      ],
      "execution_count": null,
      "outputs": []
    },
    {
      "cell_type": "code",
      "metadata": {
        "colab": {
          "base_uri": "https://localhost:8080/"
        },
        "id": "pSO3SU1NAHug",
        "outputId": "16edfd29-50bd-4152-efdb-2958de9693ff"
      },
      "source": [
        "date = datetime.datetime.now()\n",
        "Date = date.strftime(\"%m-%d-%Y\")\n",
        "print(Date)\n",
        "videos = [f for f in os.listdir('.') if f.endswith('.webm')]\n",
        "print(videos)"
      ],
      "execution_count": null,
      "outputs": [
        {
          "output_type": "stream",
          "text": [
            "05-25-2021\n",
            "['20178091-17:1-5-25-2021.webm', '20178058-17:3-25-05-2021.webm']\n"
          ],
          "name": "stdout"
        }
      ]
    },
    {
      "cell_type": "code",
      "metadata": {
        "colab": {
          "base_uri": "https://localhost:8080/"
        },
        "id": "mGZs6fX1zC41",
        "outputId": "8cc21e0a-f89d-4c3c-940c-536947aa26a3"
      },
      "source": [
        "for video_name in videos:\n",
        "  cap= cv2.VideoCapture(\"./\"+video_name)\n",
        "  i=0\n",
        "  img = []\n",
        "  while(cap.isOpened()):\n",
        "      ret, frame = cap.read()\n",
        "      if ret == False:\n",
        "          break\n",
        "      # cv2_imshow(frame)\n",
        "      img.append(frame)\n",
        "      i+=1\n",
        "  cap.release()\n",
        "  cv2.destroyAllWindows()\n",
        "\n",
        "  no_frames = 20\n",
        "  present = 0\n",
        "  for x in range(no_frames):\n",
        "    r = random.randrange(1,len(img)-1)\n",
        "    detections = detector1.detectCustomObjectsFromImage(input_image=img[r], input_type=\"array\", output_image_path=os.path.join(execution_path , \"/output/image3new-custom.jpg\"), minimum_percentage_probability=30)\n",
        "    flag = 0\n",
        "    for eachObject in detections:\n",
        "        if(eachObject[\"name\"] == 'person'):\n",
        "          flag=1\n",
        "    if(flag == 1):\n",
        "      present = present+1\n",
        "  present_p = present/no_frames\n",
        "  if (present_p > 0.7):\n",
        "    Attendance_Sheet.append({'Registration No.': video_name[0:8], 'Attendance': \"Present\", 'presence %': present_p*100})\n",
        "  else:\n",
        "    Attendance_Sheet.append({'Registration No.': video_name[0:8], 'Attendance': \"Absent\", 'presence %': present_p*100})\n",
        "  os.remove(\"./\"+video_name)"
      ],
      "execution_count": null,
      "outputs": [
        {
          "output_type": "stream",
          "text": [
            "/usr/local/lib/python3.7/dist-packages/ipykernel_launcher.py:19: DeprecationWarning: 'detectCustomObjectsFromImage()' function has been deprecated and will be removed in future versions of ImageAI. \n",
            " Kindly use 'detectObjectsFromImage()' \n"
          ],
          "name": "stderr"
        }
      ]
    },
    {
      "cell_type": "code",
      "metadata": {
        "colab": {
          "base_uri": "https://localhost:8080/"
        },
        "id": "WOf_bzFP1Iuz",
        "outputId": "191296f1-1d6c-4847-a2a1-ce7edcda0645"
      },
      "source": [
        "print(Attendance_Sheet)"
      ],
      "execution_count": null,
      "outputs": [
        {
          "output_type": "stream",
          "text": [
            "[{'Registration No.': '20178091', 'Attendance': 'Present', 'presence %': 100.0}, {'Registration No.': '20178058', 'Attendance': 'Present', 'presence %': 100.0}]\n"
          ],
          "name": "stdout"
        }
      ]
    },
    {
      "cell_type": "code",
      "metadata": {
        "id": "XmxsSom95-nW"
      },
      "source": [
        "df1 = pd.DataFrame(Attendance_Sheet, columns=['Registration No.', 'Attendance', 'presence %'])\n",
        "df1.to_excel(\"./Attendance_\" +Date +\".xlsx\")"
      ],
      "execution_count": null,
      "outputs": []
    },
    {
      "cell_type": "code",
      "metadata": {
        "id": "xFCIN94qEXi7"
      },
      "source": [
        ""
      ],
      "execution_count": null,
      "outputs": []
    }
  ]
}